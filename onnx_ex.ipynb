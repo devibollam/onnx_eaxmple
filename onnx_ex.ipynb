{
 "cells": [
  {
   "cell_type": "code",
   "execution_count": null,
   "id": "cdad9720",
   "metadata": {},
   "outputs": [],
   "source": [
    "!pip install onnx\n",
    "!pip install onnxruntime"
   ]
  },
  {
   "cell_type": "code",
   "execution_count": 1,
   "id": "d8b18f35",
   "metadata": {},
   "outputs": [
    {
     "name": "stderr",
     "output_type": "stream",
     "text": [
      "c:\\Users\\LBOLLAM\\AppData\\Local\\Programs\\Python\\Python310\\lib\\site-packages\\tqdm\\auto.py:21: TqdmWarning: IProgress not found. Please update jupyter and ipywidgets. See https://ipywidgets.readthedocs.io/en/stable/user_install.html\n",
      "  from .autonotebook import tqdm as notebook_tqdm\n"
     ]
    },
    {
     "name": "stdout",
     "output_type": "stream",
     "text": [
      "False\n"
     ]
    }
   ],
   "source": [
    "import torch\n",
    "import torch.nn as nn\n",
    "import time\n",
    "import torch.onnx\n",
    "\n",
    "import onnxruntime as ort\n",
    "import numpy as np\n",
    "\n",
    "print(torch.cuda.is_available())\n",
    "     "
   ]
  },
  {
   "cell_type": "code",
   "execution_count": 2,
   "id": "d33b6287",
   "metadata": {},
   "outputs": [
    {
     "name": "stdout",
     "output_type": "stream",
     "text": [
      "PyTorch Inference Output: [[-0.27098155 -0.18836817  0.35656816  0.73917997]]\n"
     ]
    }
   ],
   "source": [
    "# Define a simple feedforward network\n",
    "class SimpleNet(nn.Module):\n",
    "    def __init__(self):\n",
    "        super(SimpleNet, self).__init__()\n",
    "        # Define layers\n",
    "        self.fc1 = nn.Linear(2, 2)  # Input to layer 1\n",
    "        self.fc2 = nn.Linear(2, 3)  # Layer 1 to layer 2\n",
    "        self.fc3 = nn.Linear(3, 4)  # Layer 2 to layer 3 (output)\n",
    "\n",
    "    def forward(self, x):\n",
    "        # Forward pass through the network\n",
    "        x = torch.sigmoid(self.fc1(x))\n",
    "        x = torch.sigmoid(self.fc2(x))\n",
    "        x = self.fc3(x)  # Output layer has no activation\n",
    "        return x\n",
    "\n",
    "# Instantiate the model\n",
    "model = SimpleNet()\n",
    "\n",
    "# Example input for inference\n",
    "example_input = torch.tensor([[1.0, 2.0]])\n",
    "\n",
    "# Perform inference\n",
    "output = model(example_input)\n",
    "\n",
    "# Print the inference output\n",
    "print(\"PyTorch Inference Output:\", output.detach().numpy())\n",
    "     "
   ]
  },
  {
   "cell_type": "code",
   "execution_count": 3,
   "id": "295464c7",
   "metadata": {},
   "outputs": [
    {
     "name": "stdout",
     "output_type": "stream",
     "text": [
      "Model successfully converted to ONNX: simple_model.onnx\n"
     ]
    }
   ],
   "source": [
    "# Specify the path for the ONNX model file\n",
    "onnx_model_path = \"simple_model.onnx\"\n",
    "\n",
    "# Convert the PyTorch model to ONNX\n",
    "torch.onnx.export(\n",
    "    model,                          # model being exported\n",
    "    example_input,                  # model input (or a tuple for multiple inputs)\n",
    "    onnx_model_path,                # where to save the model (can be a file or file-like object)\n",
    "    input_names=[\"input\"],          # the model's input names\n",
    "    output_names=[\"output\"],        # the model's output names\n",
    ")\n",
    "\n",
    "print(f\"Model successfully converted to ONNX: {onnx_model_path}\")\n",
    "\n",
    "\n",
    "     "
   ]
  },
  {
   "cell_type": "code",
   "execution_count": 4,
   "id": "ec390930",
   "metadata": {},
   "outputs": [
    {
     "name": "stdout",
     "output_type": "stream",
     "text": [
      "ONNX Inference Output: [array([[-0.27098152, -0.18836817,  0.35656816,  0.73917997]],\n",
      "      dtype=float32)]\n"
     ]
    }
   ],
   "source": [
    "# Load the ONNX model\n",
    "onnx_model_path = \"simple_model.onnx\"\n",
    "ort_session = ort.InferenceSession(onnx_model_path)\n",
    "\n",
    "# Prepare sample input data (same shape as the PyTorch model)\n",
    "onnx_input = np.array([[1.0, 2.0]], dtype=np.float32)\n",
    "\n",
    "\n",
    "# Run inference on the ONNX model\n",
    "onnx_output = ort_session.run(None, {\"input\": onnx_input})\n",
    "\n",
    "# Print the ONNX inference result\n",
    "print(\"ONNX Inference Output:\", onnx_output)"
   ]
  },
  {
   "cell_type": "code",
   "execution_count": 5,
   "id": "84b66c85",
   "metadata": {},
   "outputs": [
    {
     "name": "stdout",
     "output_type": "stream",
     "text": [
      "Total time: 0.00013225317001342774\n"
     ]
    }
   ],
   "source": [
    "time_sum = 0\n",
    "n_iters = 1000\n",
    "\n",
    "for i in range(n_iters):\n",
    "  example_input = torch.randn(1, 2)\n",
    "  t0 = time.time()\n",
    "  output = model(example_input)\n",
    "  time_sum+=(time.time() - t0)\n",
    "\n",
    "print(f\"Total time: {time_sum/n_iters}\")"
   ]
  },
  {
   "cell_type": "code",
   "execution_count": 6,
   "id": "0b1ed582",
   "metadata": {},
   "outputs": [
    {
     "name": "stdout",
     "output_type": "stream",
     "text": [
      "Total time: 3.864407539367676e-05\n"
     ]
    }
   ],
   "source": [
    "time_sum = 0\n",
    "n_iters = 1000\n",
    "onnx_model_path = \"simple_model.onnx\"\n",
    "ort_session = ort.InferenceSession(onnx_model_path)\n",
    "\n",
    "\n",
    "for i in range(n_iters):\n",
    "  onnx_input = np.random.rand(1, 2).astype(np.float32)\n",
    "  t0 = time.time()\n",
    "  onnx_output = ort_session.run(None, {\"input\": onnx_input})\n",
    "  time_sum+=(time.time() - t0)\n",
    "\n",
    "print(f\"Total time: {time_sum/n_iters}\")"
   ]
  },
  {
   "cell_type": "code",
   "execution_count": null,
   "id": "ecf0244e",
   "metadata": {},
   "outputs": [],
   "source": []
  }
 ],
 "metadata": {
  "kernelspec": {
   "display_name": "Python 3",
   "language": "python",
   "name": "python3"
  },
  "language_info": {
   "codemirror_mode": {
    "name": "ipython",
    "version": 3
   },
   "file_extension": ".py",
   "mimetype": "text/x-python",
   "name": "python",
   "nbconvert_exporter": "python",
   "pygments_lexer": "ipython3",
   "version": "3.10.0"
  }
 },
 "nbformat": 4,
 "nbformat_minor": 5
}
